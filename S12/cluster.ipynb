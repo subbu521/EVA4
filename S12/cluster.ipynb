{
  "nbformat": 4,
  "nbformat_minor": 0,
  "metadata": {
    "colab": {
      "name": "cluster.ipynb",
      "provenance": [],
      "include_colab_link": true
    },
    "kernelspec": {
      "name": "python3",
      "display_name": "Python 3"
    }
  },
  "cells": [
    {
      "cell_type": "markdown",
      "metadata": {
        "id": "view-in-github",
        "colab_type": "text"
      },
      "source": [
        "<a href=\"https://colab.research.google.com/github/subbu521/EVA4/blob/master/S12/cluster.ipynb\" target=\"_parent\"><img src=\"https://colab.research.google.com/assets/colab-badge.svg\" alt=\"Open In Colab\"/></a>"
      ]
    },
    {
      "cell_type": "code",
      "metadata": {
        "id": "RT4wLUT5fRkh",
        "colab_type": "code",
        "outputId": "93108a59-f352-4f23-9920-285238f9e53c",
        "colab": {
          "base_uri": "https://localhost:8080/",
          "height": 34
        }
      },
      "source": [
        "from google.colab import drive\n",
        "drive.mount('/content/drive')"
      ],
      "execution_count": 0,
      "outputs": [
        {
          "output_type": "stream",
          "text": [
            "Drive already mounted at /content/drive; to attempt to forcibly remount, call drive.mount(\"/content/drive\", force_remount=True).\n"
          ],
          "name": "stdout"
        }
      ]
    },
    {
      "cell_type": "code",
      "metadata": {
        "id": "TcjYW_6rfYrA",
        "colab_type": "code",
        "colab": {}
      },
      "source": [
        "import sys\n",
        "sys.path.append('/content/drive/My Drive/EVA/S7')"
      ],
      "execution_count": 0,
      "outputs": []
    },
    {
      "cell_type": "code",
      "metadata": {
        "id": "FJjEZRVSfaNb",
        "colab_type": "code",
        "colab": {}
      },
      "source": [
        "import pandas as pd\n",
        "import numpy as np\n",
        "import math"
      ],
      "execution_count": 0,
      "outputs": []
    },
    {
      "cell_type": "code",
      "metadata": {
        "id": "pjzt1l2ng5RA",
        "colab_type": "code",
        "colab": {}
      },
      "source": [
        "import json\n",
        "\n",
        "file = '/content/drive/My Drive/EVA/S12/Dogs_annotations.json'\n",
        "annotations = json.load(open(file))"
      ],
      "execution_count": 0,
      "outputs": []
    },
    {
      "cell_type": "code",
      "metadata": {
        "id": "OME-_r7_mAdP",
        "colab_type": "code",
        "colab": {}
      },
      "source": [
        "att = []\n",
        "for r, d in annotations.items():\n",
        "  for i in d['regions']:\n",
        "    dic = {'filename': d['filename'] }\n",
        "    dic['size'] = d['size']\n",
        "    sa = i['shape_attributes']\n",
        "     \n",
        "    dic['x'] = sa['x']\n",
        "    dic['y'] = sa['y']\n",
        "    dic['h'] = sa['height']\n",
        "    dic['w'] = sa['width']\n",
        "    dic['image_height'] = sa['height']/sa['x']\n",
        "    dic['image_width'] = sa['width']/sa['y']\n",
        "    dic['log_height'] = math.log(sa['height']/sa['x'])\n",
        "    dic['log_width'] = math.log(sa['width']/sa['y'])\n",
        "\n",
        "    att.append(dic)\n",
        "\n"
      ],
      "execution_count": 0,
      "outputs": []
    },
    {
      "cell_type": "code",
      "metadata": {
        "id": "g_9_fz3oih3a",
        "colab_type": "code",
        "outputId": "5ca4dad0-e1ea-42b4-dc6e-c9961ef35317",
        "colab": {
          "base_uri": "https://localhost:8080/",
          "height": 204
        }
      },
      "source": [
        "df = pd.DataFrame.from_dict(att, orient='columns')\n",
        "df.head()"
      ],
      "execution_count": 0,
      "outputs": [
        {
          "output_type": "execute_result",
          "data": {
            "text/html": [
              "<div>\n",
              "<style scoped>\n",
              "    .dataframe tbody tr th:only-of-type {\n",
              "        vertical-align: middle;\n",
              "    }\n",
              "\n",
              "    .dataframe tbody tr th {\n",
              "        vertical-align: top;\n",
              "    }\n",
              "\n",
              "    .dataframe thead th {\n",
              "        text-align: right;\n",
              "    }\n",
              "</style>\n",
              "<table border=\"1\" class=\"dataframe\">\n",
              "  <thead>\n",
              "    <tr style=\"text-align: right;\">\n",
              "      <th></th>\n",
              "      <th>filename</th>\n",
              "      <th>size</th>\n",
              "      <th>x</th>\n",
              "      <th>y</th>\n",
              "      <th>h</th>\n",
              "      <th>w</th>\n",
              "      <th>image_height</th>\n",
              "      <th>image_width</th>\n",
              "      <th>log_height</th>\n",
              "      <th>log_width</th>\n",
              "    </tr>\n",
              "  </thead>\n",
              "  <tbody>\n",
              "    <tr>\n",
              "      <th>0</th>\n",
              "      <td>1.jpg</td>\n",
              "      <td>102544</td>\n",
              "      <td>169</td>\n",
              "      <td>54</td>\n",
              "      <td>944</td>\n",
              "      <td>760</td>\n",
              "      <td>5.585799</td>\n",
              "      <td>14.074074</td>\n",
              "      <td>1.720227</td>\n",
              "      <td>2.644334</td>\n",
              "    </tr>\n",
              "    <tr>\n",
              "      <th>1</th>\n",
              "      <td>2.jpg</td>\n",
              "      <td>129547</td>\n",
              "      <td>390</td>\n",
              "      <td>47</td>\n",
              "      <td>939</td>\n",
              "      <td>1121</td>\n",
              "      <td>2.407692</td>\n",
              "      <td>23.851064</td>\n",
              "      <td>0.878669</td>\n",
              "      <td>3.171829</td>\n",
              "    </tr>\n",
              "    <tr>\n",
              "      <th>2</th>\n",
              "      <td>3.jpg</td>\n",
              "      <td>81183</td>\n",
              "      <td>88</td>\n",
              "      <td>48</td>\n",
              "      <td>245</td>\n",
              "      <td>203</td>\n",
              "      <td>2.784091</td>\n",
              "      <td>4.229167</td>\n",
              "      <td>1.023921</td>\n",
              "      <td>1.442005</td>\n",
              "    </tr>\n",
              "    <tr>\n",
              "      <th>3</th>\n",
              "      <td>4.jpg</td>\n",
              "      <td>216565</td>\n",
              "      <td>968</td>\n",
              "      <td>151</td>\n",
              "      <td>1187</td>\n",
              "      <td>1088</td>\n",
              "      <td>1.226240</td>\n",
              "      <td>7.205298</td>\n",
              "      <td>0.203952</td>\n",
              "      <td>1.974817</td>\n",
              "    </tr>\n",
              "    <tr>\n",
              "      <th>4</th>\n",
              "      <td>5.jpg</td>\n",
              "      <td>376853</td>\n",
              "      <td>550</td>\n",
              "      <td>180</td>\n",
              "      <td>1120</td>\n",
              "      <td>1449</td>\n",
              "      <td>2.036364</td>\n",
              "      <td>8.050000</td>\n",
              "      <td>0.711166</td>\n",
              "      <td>2.085672</td>\n",
              "    </tr>\n",
              "  </tbody>\n",
              "</table>\n",
              "</div>"
            ],
            "text/plain": [
              "  filename    size    x    y  ...  image_height  image_width  log_height  log_width\n",
              "0    1.jpg  102544  169   54  ...      5.585799    14.074074    1.720227   2.644334\n",
              "1    2.jpg  129547  390   47  ...      2.407692    23.851064    0.878669   3.171829\n",
              "2    3.jpg   81183   88   48  ...      2.784091     4.229167    1.023921   1.442005\n",
              "3    4.jpg  216565  968  151  ...      1.226240     7.205298    0.203952   1.974817\n",
              "4    5.jpg  376853  550  180  ...      2.036364     8.050000    0.711166   2.085672\n",
              "\n",
              "[5 rows x 10 columns]"
            ]
          },
          "metadata": {
            "tags": []
          },
          "execution_count": 6
        }
      ]
    },
    {
      "cell_type": "code",
      "metadata": {
        "id": "YJGqAsXuvR8x",
        "colab_type": "code",
        "colab": {}
      },
      "source": [
        "import matplotlib.pyplot as plt"
      ],
      "execution_count": 0,
      "outputs": []
    },
    {
      "cell_type": "code",
      "metadata": {
        "id": "WPvUItoUicrB",
        "colab_type": "code",
        "outputId": "04073f4b-796f-459a-e600-479953698842",
        "colab": {
          "base_uri": "https://localhost:8080/",
          "height": 297
        }
      },
      "source": [
        "df.plot.scatter('w','h')"
      ],
      "execution_count": 0,
      "outputs": [
        {
          "output_type": "execute_result",
          "data": {
            "text/plain": [
              "<matplotlib.axes._subplots.AxesSubplot at 0x7f42a71994a8>"
            ]
          },
          "metadata": {
            "tags": []
          },
          "execution_count": 8
        },
        {
          "output_type": "display_data",
          "data": {
            "image/png": "[encoded data removed]",
            "text/plain": [
              "<Figure size 432x288 with 1 Axes>"
            ]
          },
          "metadata": {
            "tags": [],
            "needs_background": "light"
          }
        }
      ]
    },
    {
      "cell_type": "code",
      "metadata": {
        "id": "MAM9-Akfn8Vf",
        "colab_type": "code",
        "outputId": "e9210310-870f-458b-a7b7-e350e0234580",
        "colab": {
          "base_uri": "https://localhost:8080/",
          "height": 301
        }
      },
      "source": [
        "df.plot.scatter('image_width','image_height')"
      ],
      "execution_count": 0,
      "outputs": [
        {
          "output_type": "execute_result",
          "data": {
            "text/plain": [
              "<matplotlib.axes._subplots.AxesSubplot at 0x7f42a4864978>"
            ]
          },
          "metadata": {
            "tags": []
          },
          "execution_count": 9
        },
        {
          "output_type": "display_data",
          "data": {
            "image/png": "[encoded data removed]",
            "text/plain": [
              "<Figure size 432x288 with 1 Axes>"
            ]
          },
          "metadata": {
            "tags": [],
            "needs_background": "light"
          }
        }
      ]
    },
    {
      "cell_type": "code",
      "metadata": {
        "id": "I96OjnKEoCX-",
        "colab_type": "code",
        "outputId": "386dd5d7-7c41-49ec-c7fd-e0fe10533072",
        "colab": {
          "base_uri": "https://localhost:8080/",
          "height": 297
        }
      },
      "source": [
        "df.plot.scatter('log_width','log_height')"
      ],
      "execution_count": 0,
      "outputs": [
        {
          "output_type": "execute_result",
          "data": {
            "text/plain": [
              "<matplotlib.axes._subplots.AxesSubplot at 0x7f42a43947f0>"
            ]
          },
          "metadata": {
            "tags": []
          },
          "execution_count": 10
        },
        {
          "output_type": "display_data",
          "data": {
            "image/png": "[encoded data removed]",
            "text/plain": [
              "<Figure size 432x288 with 1 Axes>"
            ]
          },
          "metadata": {
            "tags": [],
            "needs_background": "light"
          }
        }
      ]
    },
    {
      "cell_type": "code",
      "metadata": {
        "id": "AoYKm6JHprb_",
        "colab_type": "code",
        "colab": {}
      },
      "source": [
        "from sklearn.cluster import KMeans"
      ],
      "execution_count": 0,
      "outputs": []
    },
    {
      "cell_type": "code",
      "metadata": {
        "id": "0YEs3cIZrkTc",
        "colab_type": "code",
        "colab": {}
      },
      "source": [
        "X = df[['log_width', 'log_height']].to_numpy()"
      ],
      "execution_count": 0,
      "outputs": []
    },
    {
      "cell_type": "code",
      "metadata": {
        "id": "ZpJ_rQAwqlAZ",
        "colab_type": "code",
        "outputId": "d4cb70f4-ca20-44f5-97d2-cbf418517195",
        "colab": {
          "base_uri": "https://localhost:8080/",
          "height": 295
        }
      },
      "source": [
        "wcss = []\n",
        "for i in range(1, 21):\n",
        "    kmeans = KMeans(n_clusters=i, init='k-means++', max_iter=300, n_init=10, random_state=0)\n",
        "    kmeans.fit(X)\n",
        "    wcss.append(kmeans.inertia_)\n",
        "plt.plot(range(1, 21), wcss)\n",
        "plt.title('Elbow Method')\n",
        "plt.xlabel('Number of clusters')\n",
        "plt.ylabel('WCSS')\n",
        "plt.show()"
      ],
      "execution_count": 0,
      "outputs": [
        {
          "output_type": "display_data",
          "data": {
            "image/png": "[encoded data removed]",
            "text/plain": [
              "<Figure size 432x288 with 1 Axes>"
            ]
          },
          "metadata": {
            "tags": [],
            "needs_background": "light"
          }
        }
      ]
    },
    {
      "cell_type": "markdown",
      "metadata": {
        "id": "iCLfgue1u--8",
        "colab_type": "text"
      },
      "source": [
        "# From the above plot we can understand the k = 3 is ok.\n",
        "# K = 4 or 5 can also choose.\n",
        "# After k = 6 also we can choose but after that the curve is a linear line\n",
        "\n"
      ]
    },
    {
      "cell_type": "code",
      "metadata": {
        "id": "hx_qghEdwDiF",
        "colab_type": "code",
        "colab": {}
      },
      "source": [
        ""
      ],
      "execution_count": 0,
      "outputs": []
    }
  ]
}